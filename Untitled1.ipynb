{
 "cells": [
  {
   "cell_type": "code",
   "execution_count": 1,
   "id": "6d3b2035",
   "metadata": {},
   "outputs": [
    {
     "name": "stdout",
     "output_type": "stream",
     "text": [
      "hello\n"
     ]
    }
   ],
   "source": [
    "print(\"hello\")\n"
   ]
  },
  {
   "cell_type": "code",
   "execution_count": 4,
   "id": "bccf79fb",
   "metadata": {},
   "outputs": [],
   "source": [
    "#hey beautiful"
   ]
  },
  {
   "cell_type": "markdown",
   "id": "4226a8af",
   "metadata": {},
   "source": [
    "<p>Bullet lists nested within numbered list:</p>\n",
    "\n",
    "<ol>\n",
    "  <li>fruits <ul>\n",
    "      <li>apple</li>\n",
    "      \n",
    "  </ul></li>\n",
    "  <li>vegetables <ul>\n",
    "      <li>carrot</li>\n",
    "      <li>broccoli</li>\n",
    "  </ul></li>\n",
    "</ol>\n"
   ]
  },
  {
   "cell_type": "code",
   "execution_count": null,
   "id": "d6c217e1",
   "metadata": {},
   "outputs": [],
   "source": []
  }
 ],
 "metadata": {
  "kernelspec": {
   "display_name": "Python 3 (ipykernel)",
   "language": "python",
   "name": "python3"
  },
  "language_info": {
   "codemirror_mode": {
    "name": "ipython",
    "version": 3
   },
   "file_extension": ".py",
   "mimetype": "text/x-python",
   "name": "python",
   "nbconvert_exporter": "python",
   "pygments_lexer": "ipython3",
   "version": "3.9.12"
  }
 },
 "nbformat": 4,
 "nbformat_minor": 5
}
