{
 "cells": [
  {
   "cell_type": "code",
   "execution_count": 1,
   "id": "a8cf69c0",
   "metadata": {},
   "outputs": [
    {
     "name": "stdout",
     "output_type": "stream",
     "text": [
      "hello\n"
     ]
    }
   ],
   "source": [
    "print(\"hello\")\n"
   ]
  },
  {
   "cell_type": "code",
   "execution_count": 4,
   "id": "9844f433",
   "metadata": {},
   "outputs": [],
   "source": [
    "#hey beautiful"
   ]
  },
  {
   "cell_type": "markdown",
   "id": "aeebcba2",
   "metadata": {},
   "source": [
    "<hi>new head</h1>"
   ]
  },
  {
   "cell_type": "markdown",
   "id": "45171988",
   "metadata": {},
   "source": [
    "<h1>Heading</h1>"
   ]
  },
  {
   "cell_type": "markdown",
   "id": "086f3c66",
   "metadata": {},
   "source": [
    "<h2>Sub-heading</h2>"
   ]
  },
  {
   "cell_type": "markdown",
   "id": "0880aa2a",
   "metadata": {},
   "source": [
    "<p>Paragraphs are separated\n",
    "by a blank line.</p>"
   ]
  },
  {
   "cell_type": "code",
   "execution_count": null,
   "id": "8d166524",
   "metadata": {},
   "outputs": [],
   "source": []
  }
 ],
 "metadata": {
  "kernelspec": {
   "display_name": "Python 3 (ipykernel)",
   "language": "python",
   "name": "python3"
  },
  "language_info": {
   "codemirror_mode": {
    "name": "ipython",
    "version": 3
   },
   "file_extension": ".py",
   "mimetype": "text/x-python",
   "name": "python",
   "nbconvert_exporter": "python",
   "pygments_lexer": "ipython3",
   "version": "3.9.12"
  }
 },
 "nbformat": 4,
 "nbformat_minor": 5
}
